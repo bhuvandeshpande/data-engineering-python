{
 "cells": [
  {
   "cell_type": "code",
   "execution_count": 26,
   "metadata": {},
   "outputs": [],
   "source": [
    "#!pip3 install pandas --quiet\n",
    "import json\n",
    "import pandas as pd"
   ]
  },
  {
   "attachments": {},
   "cell_type": "markdown",
   "metadata": {},
   "source": [
    "Read Orders data into orders_data pandas dataframe"
   ]
  },
  {
   "cell_type": "code",
   "execution_count": 30,
   "metadata": {},
   "outputs": [
    {
     "data": {
      "text/plain": [
       "(68883, 4)"
      ]
     },
     "execution_count": 30,
     "metadata": {},
     "output_type": "execute_result"
    }
   ],
   "source": [
    "# example to read data from a csv file into a pandas dataframe\n",
    "# order_columns = ['order_id', 'order_date', 'order_customer_id', 'order_status']\n",
    "\n",
    "# function to get column names from a schema.json file\n",
    "\n",
    "def get_column_names(schema_file, table_name, sorting_key='column_position'):\n",
    "    column_details = schema_file[table_name]\n",
    "    columns = sorted(column_details, key=lambda col: col[sorting_key])\n",
    "    return [col['column_name'] for col in columns]\n",
    "\n",
    "# Read schemas file to schema_file object\n",
    "schema_file = json.load(open('../data-engineering-spark/data/retail_db/schemas.json'))\n",
    "order_columns = get_column_names(schema_file, 'orders')\n",
    "orders_data = pd.read_csv('../data-engineering-spark/data/retail_db/orders/part-00000', names=order_columns)\n",
    "orders_data.shape"
   ]
  },
  {
   "cell_type": "code",
   "execution_count": 28,
   "metadata": {},
   "outputs": [
    {
     "data": {
      "text/plain": [
       "(22899, 4)"
      ]
     },
     "execution_count": 28,
     "metadata": {},
     "output_type": "execute_result"
    }
   ],
   "source": [
    "# example to filter data from pandas dataframe\n",
    "orders_data.query('order_status == \"COMPLETE\"').shape"
   ]
  },
  {
   "cell_type": "code",
   "execution_count": 29,
   "metadata": {},
   "outputs": [
    {
     "data": {
      "text/html": [
       "<div>\n",
       "<style scoped>\n",
       "    .dataframe tbody tr th:only-of-type {\n",
       "        vertical-align: middle;\n",
       "    }\n",
       "\n",
       "    .dataframe tbody tr th {\n",
       "        vertical-align: top;\n",
       "    }\n",
       "\n",
       "    .dataframe thead th {\n",
       "        text-align: right;\n",
       "    }\n",
       "</style>\n",
       "<table border=\"1\" class=\"dataframe\">\n",
       "  <thead>\n",
       "    <tr style=\"text-align: right;\">\n",
       "      <th></th>\n",
       "      <th>year_month</th>\n",
       "      <th>order_status</th>\n",
       "      <th>orders_count</th>\n",
       "    </tr>\n",
       "  </thead>\n",
       "  <tbody>\n",
       "    <tr>\n",
       "      <th>0</th>\n",
       "      <td>2013-07</td>\n",
       "      <td>CANCELED</td>\n",
       "      <td>22</td>\n",
       "    </tr>\n",
       "    <tr>\n",
       "      <th>1</th>\n",
       "      <td>2013-07</td>\n",
       "      <td>CLOSED</td>\n",
       "      <td>161</td>\n",
       "    </tr>\n",
       "    <tr>\n",
       "      <th>2</th>\n",
       "      <td>2013-07</td>\n",
       "      <td>COMPLETE</td>\n",
       "      <td>515</td>\n",
       "    </tr>\n",
       "    <tr>\n",
       "      <th>3</th>\n",
       "      <td>2013-07</td>\n",
       "      <td>ON_HOLD</td>\n",
       "      <td>81</td>\n",
       "    </tr>\n",
       "    <tr>\n",
       "      <th>4</th>\n",
       "      <td>2013-07</td>\n",
       "      <td>PAYMENT_REVIEW</td>\n",
       "      <td>19</td>\n",
       "    </tr>\n",
       "    <tr>\n",
       "      <th>...</th>\n",
       "      <td>...</td>\n",
       "      <td>...</td>\n",
       "      <td>...</td>\n",
       "    </tr>\n",
       "    <tr>\n",
       "      <th>112</th>\n",
       "      <td>2014-07</td>\n",
       "      <td>PAYMENT_REVIEW</td>\n",
       "      <td>54</td>\n",
       "    </tr>\n",
       "    <tr>\n",
       "      <th>113</th>\n",
       "      <td>2014-07</td>\n",
       "      <td>PENDING</td>\n",
       "      <td>517</td>\n",
       "    </tr>\n",
       "    <tr>\n",
       "      <th>114</th>\n",
       "      <td>2014-07</td>\n",
       "      <td>PENDING_PAYMENT</td>\n",
       "      <td>979</td>\n",
       "    </tr>\n",
       "    <tr>\n",
       "      <th>115</th>\n",
       "      <td>2014-07</td>\n",
       "      <td>PROCESSING</td>\n",
       "      <td>561</td>\n",
       "    </tr>\n",
       "    <tr>\n",
       "      <th>116</th>\n",
       "      <td>2014-07</td>\n",
       "      <td>SUSPECTED_FRAUD</td>\n",
       "      <td>101</td>\n",
       "    </tr>\n",
       "  </tbody>\n",
       "</table>\n",
       "<p>117 rows × 3 columns</p>\n",
       "</div>"
      ],
      "text/plain": [
       "    year_month     order_status  orders_count\n",
       "0      2013-07         CANCELED            22\n",
       "1      2013-07           CLOSED           161\n",
       "2      2013-07         COMPLETE           515\n",
       "3      2013-07          ON_HOLD            81\n",
       "4      2013-07   PAYMENT_REVIEW            19\n",
       "..         ...              ...           ...\n",
       "112    2014-07   PAYMENT_REVIEW            54\n",
       "113    2014-07          PENDING           517\n",
       "114    2014-07  PENDING_PAYMENT           979\n",
       "115    2014-07       PROCESSING           561\n",
       "116    2014-07  SUSPECTED_FRAUD           101\n",
       "\n",
       "[117 rows x 3 columns]"
      ]
     },
     "execution_count": 29,
     "metadata": {},
     "output_type": "execute_result"
    }
   ],
   "source": [
    "# example to generate a derived column and aggregate dataframe\n",
    "\n",
    "orders_data['year_month'] = orders_data.apply(lambda orders: orders.order_date[:7], axis=1)\n",
    "orders_data. \\\n",
    "    groupby(['year_month', 'order_status'])['order_id']. \\\n",
    "    agg(orders_count='count'). \\\n",
    "    reset_index()\n",
    "\n",
    "# orders_data.shape"
   ]
  },
  {
   "attachments": {},
   "cell_type": "markdown",
   "metadata": {},
   "source": [
    "Read customers data into customers_data pandas dataframe"
   ]
  },
  {
   "cell_type": "code",
   "execution_count": null,
   "metadata": {},
   "outputs": [],
   "source": [
    "# Read schemas file to customers_schema_file object\n",
    "customers_schema_file = json.load(open('../data-engineering-spark/data/retail_db/schemas.json'))\n",
    "order_columns = get_column_names(orders_schema_file, 'orders')\n",
    "orders_data = pd.read_csv('../data-engineering-spark/data/retail_db/orders/part-00000', names=order_columns)\n",
    "orders_data.shape"
   ]
  }
 ],
 "metadata": {
  "kernelspec": {
   "display_name": "b-venv",
   "language": "python",
   "name": "python3"
  },
  "language_info": {
   "codemirror_mode": {
    "name": "ipython",
    "version": 3
   },
   "file_extension": ".py",
   "mimetype": "text/x-python",
   "name": "python",
   "nbconvert_exporter": "python",
   "pygments_lexer": "ipython3",
   "version": "3.11.2"
  },
  "orig_nbformat": 4
 },
 "nbformat": 4,
 "nbformat_minor": 2
}
